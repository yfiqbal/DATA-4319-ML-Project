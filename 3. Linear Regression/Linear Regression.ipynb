{
 "cells": [
  {
   "cell_type": "markdown",
   "id": "4c8e5efc",
   "metadata": {},
   "source": [
    "# Linear Regression\n",
    "\n",
    "![alt text](LR.jfif)\n",
    "\n",
    "Linear Regression is a supervised learning algorithm that is applied to real valued target functions in order to predict a range of possible outputs for a given input. (Not Classification)  \n",
    "- Assume the targets are close to some linear combination of the features of the input data\n",
    "- Unlike other machine learning algorithms, linear regression has a closed form solution (equation)\n",
    "\n",
    "Example: Can use LR to relate the force for stretching a spring to the distance the spring stretches (Hook's Law)  \n",
    "Example: Can use LR to relate the salary of a developer to their age and experience"
   ]
  },
  {
   "cell_type": "code",
   "execution_count": 68,
   "id": "51688108",
   "metadata": {},
   "outputs": [],
   "source": [
    "import numpy as np\n",
    "import pandas as pd\n",
    "import matplotlib.pyplot as plt\n",
    "import random"
   ]
  },
  {
   "cell_type": "code",
   "execution_count": 69,
   "id": "76ca70d7",
   "metadata": {
    "scrolled": true
   },
   "outputs": [
    {
     "data": {
      "text/html": [
       "<div>\n",
       "<style scoped>\n",
       "    .dataframe tbody tr th:only-of-type {\n",
       "        vertical-align: middle;\n",
       "    }\n",
       "\n",
       "    .dataframe tbody tr th {\n",
       "        vertical-align: top;\n",
       "    }\n",
       "\n",
       "    .dataframe thead th {\n",
       "        text-align: right;\n",
       "    }\n",
       "</style>\n",
       "<table border=\"1\" class=\"dataframe\">\n",
       "  <thead>\n",
       "    <tr style=\"text-align: right;\">\n",
       "      <th></th>\n",
       "      <th>mpg</th>\n",
       "      <th>cylinders</th>\n",
       "      <th>displacement</th>\n",
       "      <th>horsepower</th>\n",
       "      <th>weight</th>\n",
       "      <th>acceleration</th>\n",
       "      <th>model year</th>\n",
       "      <th>origin</th>\n",
       "      <th>car name</th>\n",
       "    </tr>\n",
       "  </thead>\n",
       "  <tbody>\n",
       "    <tr>\n",
       "      <th>0</th>\n",
       "      <td>18.0</td>\n",
       "      <td>8</td>\n",
       "      <td>307.0</td>\n",
       "      <td>130</td>\n",
       "      <td>3504</td>\n",
       "      <td>12.0</td>\n",
       "      <td>70</td>\n",
       "      <td>1</td>\n",
       "      <td>\"chevrolet chevelle malibu\"</td>\n",
       "    </tr>\n",
       "    <tr>\n",
       "      <th>1</th>\n",
       "      <td>15.0</td>\n",
       "      <td>8</td>\n",
       "      <td>350.0</td>\n",
       "      <td>165</td>\n",
       "      <td>3693</td>\n",
       "      <td>11.5</td>\n",
       "      <td>70</td>\n",
       "      <td>1</td>\n",
       "      <td>\"buick skylark 320\"</td>\n",
       "    </tr>\n",
       "    <tr>\n",
       "      <th>2</th>\n",
       "      <td>18.0</td>\n",
       "      <td>8</td>\n",
       "      <td>318.0</td>\n",
       "      <td>150</td>\n",
       "      <td>3436</td>\n",
       "      <td>11.0</td>\n",
       "      <td>70</td>\n",
       "      <td>1</td>\n",
       "      <td>\"plymouth satellite\"</td>\n",
       "    </tr>\n",
       "    <tr>\n",
       "      <th>3</th>\n",
       "      <td>16.0</td>\n",
       "      <td>8</td>\n",
       "      <td>304.0</td>\n",
       "      <td>150</td>\n",
       "      <td>3433</td>\n",
       "      <td>12.0</td>\n",
       "      <td>70</td>\n",
       "      <td>1</td>\n",
       "      <td>\"amc rebel sst\"</td>\n",
       "    </tr>\n",
       "    <tr>\n",
       "      <th>4</th>\n",
       "      <td>17.0</td>\n",
       "      <td>8</td>\n",
       "      <td>302.0</td>\n",
       "      <td>140</td>\n",
       "      <td>3449</td>\n",
       "      <td>10.5</td>\n",
       "      <td>70</td>\n",
       "      <td>1</td>\n",
       "      <td>\"ford torino\"</td>\n",
       "    </tr>\n",
       "  </tbody>\n",
       "</table>\n",
       "</div>"
      ],
      "text/plain": [
       "    mpg  cylinders  displacement horsepower  weight  acceleration  model year  \\\n",
       "0  18.0          8         307.0        130    3504          12.0          70   \n",
       "1  15.0          8         350.0        165    3693          11.5          70   \n",
       "2  18.0          8         318.0        150    3436          11.0          70   \n",
       "3  16.0          8         304.0        150    3433          12.0          70   \n",
       "4  17.0          8         302.0        140    3449          10.5          70   \n",
       "\n",
       "   origin                     car name  \n",
       "0       1  \"chevrolet chevelle malibu\"  \n",
       "1       1          \"buick skylark 320\"  \n",
       "2       1         \"plymouth satellite\"  \n",
       "3       1              \"amc rebel sst\"  \n",
       "4       1                \"ford torino\"  "
      ]
     },
     "execution_count": 69,
     "metadata": {},
     "output_type": "execute_result"
    }
   ],
   "source": [
    "cars = pd.read_csv('carmpg.csv')\n",
    "cars.head()"
   ]
  },
  {
   "cell_type": "code",
   "execution_count": 70,
   "id": "2d49e5ed",
   "metadata": {},
   "outputs": [],
   "source": [
    "Y = cars[\"mpg\"]\n",
    "X = cars[\"weight\"]"
   ]
  },
  {
   "cell_type": "code",
   "execution_count": 80,
   "id": "1d685f9a",
   "metadata": {},
   "outputs": [
    {
     "data": {
      "text/plain": [
       "Text(0.5, 1.0, 'MPG vs Weight(lbs)')"
      ]
     },
     "execution_count": 80,
     "metadata": {},
     "output_type": "execute_result"
    },
    {
     "data": {
      "image/png": "[encoded data removed]",
      "text/plain": [
       "<Figure size 432x288 with 1 Axes>"
      ]
     },
     "metadata": {
      "needs_background": "light"
     },
     "output_type": "display_data"
    }
   ],
   "source": [
    "plt.scatter(X, Y)\n",
    "plt.xlabel(\"Weight (lbs)\")\n",
    "plt.ylabel(\"Miles Per Gallon\")\n",
    "plt.title(\"MPG vs Weight(lbs)\")"
   ]
  },
  {
   "cell_type": "code",
   "execution_count": 81,
   "id": "bf579d4f",
   "metadata": {},
   "outputs": [],
   "source": [
    "def predict(m,b,X):     #predict function\n",
    "    return m*X + b"
   ]
  },
  {
   "cell_type": "code",
   "execution_count": 82,
   "id": "c41c86a3",
   "metadata": {},
   "outputs": [],
   "source": [
    "def error(m,b,x,y):     #error function\n",
    "    return predict(m,b,x) - y"
   ]
  },
  {
   "cell_type": "code",
   "execution_count": 83,
   "id": "99bf4638",
   "metadata": {},
   "outputs": [],
   "source": [
    "def sum_square_error(m,b,X,Y):\n",
    "    errored=0\n",
    "    no_of_element = len(X)\n",
    "    for i in range(no_of_element):\n",
    "        errored+=error(m,b,x[i],y[i])\n",
    "    return errored**2"
   ]
  },
  {
   "cell_type": "code",
   "execution_count": 84,
   "id": "7893a828",
   "metadata": {},
   "outputs": [],
   "source": [
    "import numpy as np                  #Fit\n",
    "def least_square_mean_fit(X,Y):\n",
    "    x_mean = np.mean(X)\n",
    "    y_mean = np.mean(Y)\n",
    "    \n",
    "# Total number of values\n",
    "    total_no_values=len(X)\n",
    "    corr=0\n",
    "    std=0\n",
    "    for i in range(total_no_values):\n",
    "        corr+=((X[i]-x_mean) * (Y[i]-y_mean))\n",
    "        std+=(X[i] - x_mean)**2\n",
    "    m=corr/std\n",
    "    b=y_mean - (m*x_mean)\n",
    "    return m,b\n",
    "\n",
    "m,b = least_square_mean_fit(X,Y)"
   ]
  },
  {
   "cell_type": "code",
   "execution_count": 89,
   "id": "bd3e7437",
   "metadata": {},
   "outputs": [
    {
     "name": "stdout",
     "output_type": "stream",
     "text": [
      "-0.0076766100639264695 , 46.31736442026565\n"
     ]
    },
    {
     "data": {
      "text/plain": [
       "15.61092416455977"
      ]
     },
     "execution_count": 89,
     "metadata": {},
     "output_type": "execute_result"
    }
   ],
   "source": [
    "print(m,\",\",b)\n",
    "predict(m,b,4000)"
   ]
  },
  {
   "cell_type": "code",
   "execution_count": 86,
   "id": "eb1490e8",
   "metadata": {
    "scrolled": true
   },
   "outputs": [
    {
     "data": {
      "text/plain": [
       "0       1.418523\n",
       "1       2.967643\n",
       "2       1.940532\n",
       "3       3.963562\n",
       "4       2.840736\n",
       "         ...    \n",
       "393    -2.100378\n",
       "394   -14.033815\n",
       "395    -3.300456\n",
       "396    -1.833737\n",
       "397    -5.563015\n",
       "Length: 398, dtype: float64"
      ]
     },
     "execution_count": 86,
     "metadata": {},
     "output_type": "execute_result"
    }
   ],
   "source": [
    "error(m,b,X,Y)"
   ]
  },
  {
   "cell_type": "code",
   "execution_count": 90,
   "id": "eea8007f",
   "metadata": {},
   "outputs": [
    {
     "data": {
      "image/png": "[encoded data removed]",
      "text/plain": [
       "<Figure size 432x288 with 1 Axes>"
      ]
     },
     "metadata": {
      "needs_background": "light"
     },
     "output_type": "display_data"
    }
   ],
   "source": [
    "x_max = np.max(X) \n",
    "x_min = np.min(X) \n",
    "\n",
    "x = np.linspace(x_min, x_max, 1000)\n",
    "y = b + m * x\n",
    "#plotting line \n",
    "plt.plot(x, y, color='red', label='Regression Line')\n",
    "#plot the data point\n",
    "plt.scatter(X, Y, color='black', label='Data Point')\n",
    "plt.xlabel('Weight (lbs)')\n",
    "plt.ylabel('Miles Per Gallon')\n",
    "plt.legend()\n",
    "plt.show()"
   ]
  },
  {
   "cell_type": "code",
   "execution_count": 104,
   "id": "48e94d71",
   "metadata": {},
   "outputs": [],
   "source": [
    "Y = cars[\"mpg\"]\n",
    "X = cars[\"acceleration\"]"
   ]
  },
  {
   "cell_type": "code",
   "execution_count": 105,
   "id": "b1debf48",
   "metadata": {},
   "outputs": [],
   "source": [
    "m,b = least_square_mean_fit(X,Y)"
   ]
  },
  {
   "cell_type": "code",
   "execution_count": 106,
   "id": "7f6a5924",
   "metadata": {},
   "outputs": [
    {
     "name": "stdout",
     "output_type": "stream",
     "text": [
      "1.1912045293502265 , 4.9697930042539475\n"
     ]
    }
   ],
   "source": [
    "print(m,\",\",b)"
   ]
  },
  {
   "cell_type": "code",
   "execution_count": 111,
   "id": "c086abe6",
   "metadata": {},
   "outputs": [
    {
     "data": {
      "text/plain": [
       "19.264247356456664"
      ]
     },
     "execution_count": 111,
     "metadata": {},
     "output_type": "execute_result"
    }
   ],
   "source": [
    "predict(m,b,12)"
   ]
  },
  {
   "cell_type": "code",
   "execution_count": 108,
   "id": "65f07b79",
   "metadata": {},
   "outputs": [
    {
     "data": {
      "text/plain": [
       "0       1.264247\n",
       "1       3.668645\n",
       "2       0.073043\n",
       "3       3.264247\n",
       "4       0.477441\n",
       "         ...    \n",
       "393    -3.447416\n",
       "394    -9.726576\n",
       "395   -13.212234\n",
       "396    -0.873803\n",
       "397    -2.920839\n",
       "Length: 398, dtype: float64"
      ]
     },
     "execution_count": 108,
     "metadata": {},
     "output_type": "execute_result"
    }
   ],
   "source": [
    "error(m,b,X,Y)"
   ]
  },
  {
   "cell_type": "code",
   "execution_count": 110,
   "id": "8f7bdf6c",
   "metadata": {},
   "outputs": [
    {
     "data": {
      "image/png": "[encoded data removed]",
      "text/plain": [
       "<Figure size 432x288 with 1 Axes>"
      ]
     },
     "metadata": {
      "needs_background": "light"
     },
     "output_type": "display_data"
    }
   ],
   "source": [
    "x_max = np.max(X) \n",
    "x_min = np.min(X) \n",
    "\n",
    "x = np.linspace(x_min, x_max, 1000)\n",
    "y = b + m * x\n",
    "#plotting line \n",
    "plt.plot(x, y, color='red', label='Regression Line')\n",
    "#plot the data point\n",
    "plt.scatter(X, Y, color='black', label='Data Point')\n",
    "plt.xlabel('Acceleration')\n",
    "plt.ylabel('Miles Per Gallon')\n",
    "plt.legend()\n",
    "plt.show()"
   ]
  },
  {
   "cell_type": "markdown",
   "id": "bd48d4c5",
   "metadata": {},
   "source": [
    "These examples show us how regression can help us predict. For example, the algorithm predicted that for a car weighing 4000 lbs the MPG would be 15.61. When the acceleration is 12, the algorithm predicts that the MPG would be 19.26. The data is more clustered when the regressor is Weight as compared to when the regressor is acceleration."
   ]
  },
  {
   "cell_type": "code",
   "execution_count": null,
   "id": "c4b1a434",
   "metadata": {},
   "outputs": [],
   "source": []
  }
 ],
 "metadata": {
  "kernelspec": {
   "display_name": "Python 3",
   "language": "python",
   "name": "python3"
  },
  "language_info": {
   "codemirror_mode": {
    "name": "ipython",
    "version": 3
   },
   "file_extension": ".py",
   "mimetype": "text/x-python",
   "name": "python",
   "nbconvert_exporter": "python",
   "pygments_lexer": "ipython3",
   "version": "3.8.8"
  }
 },
 "nbformat": 4,
 "nbformat_minor": 5
}
